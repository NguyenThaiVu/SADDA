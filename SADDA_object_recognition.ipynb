{
  "cells": [
    {
      "cell_type": "code",
      "execution_count": 1,
      "metadata": {
        "id": "WQLsH4jSJUvG"
      },
      "outputs": [],
      "source": [
        "# !cp -r \"/content/drive/MyDrive/my_data/Semi_ADDA/data/CALTECH_data.h5\" ./CALTECH_data.h5\n",
        "# !cp -r \"/content/drive/MyDrive/my_data/Semi_ADDA/data/PASCAL_data.h5\" ./PASCAL_data.h5\n",
        "# !cp -r \"/content/drive/MyDrive/my_data/Semi_ADDA/data/LABELME_data.h5\" ./LABELME_data.h5\n",
        "# !cp -r \"/content/drive/MyDrive/my_data/Semi_ADDA/data/SUN_data.h5\" ./SUN_data.h5"
      ]
    },
    {
      "cell_type": "markdown",
      "metadata": {
        "id": "LGURBwNeApTf"
      },
      "source": [
        "# Source code of SEMI-SUPERVISED ADVERSARIAL DISCRIMINATIVE DOMAIN ADAPTATION"
      ]
    },
    {
      "cell_type": "code",
      "execution_count": 2,
      "metadata": {
        "id": "SFNVSAbSJlV1"
      },
      "outputs": [],
      "source": [
        "import numpy as np\n",
        "import matplotlib.pyplot as plt\n",
        "%matplotlib inline\n",
        "import cv2\n",
        "from sklearn.utils import shuffle\n",
        "from sklearn import metrics\n",
        "from sklearn.metrics import classification_report\n",
        "\n",
        "from imutils import build_montages\n",
        "import h5py\n",
        "from functools import reduce\n",
        "import os\n",
        "import scipy.io as sio\n",
        "import urllib.request\n",
        "import shutil\n",
        "\n",
        "import tensorflow as tf\n",
        "from tensorflow import keras \n",
        "from tensorflow.keras.layers import Input, Add, Dense, Activation, ZeroPadding2D, BatchNormalization, Flatten, \\\n",
        "    Conv2D, AveragePooling2D, MaxPooling2D, GlobalMaxPooling2D, Dropout, LeakyReLU, GlobalAveragePooling2D, Conv2DTranspose, \\\n",
        "    Reshape, Lambda, ReLU\n",
        "from tensorflow.keras.models import  Model, load_model, Sequential, clone_model\n",
        "from tensorflow.keras.initializers import glorot_uniform\n",
        "from tensorflow.keras.preprocessing.image import ImageDataGenerator\n",
        "from tensorflow.keras.callbacks import EarlyStopping, LearningRateScheduler\n",
        "from tensorflow.keras.optimizers import Adam, RMSprop, SGD\n",
        "from tensorflow.python.keras import regularizers\n",
        "from tensorflow.keras.utils import to_categorical\n",
        "from keras.utils.vis_utils import plot_model\n",
        "from tensorflow.keras.regularizers import l2\n",
        "from tensorflow.keras import backend"
      ]
    },
    {
      "cell_type": "markdown",
      "metadata": {
        "id": "aoXbBuAmEakS"
      },
      "source": [
        "# Hyperparameter"
      ]
    },
    {
      "cell_type": "code",
      "execution_count": 3,
      "metadata": {
        "id": "MSRgNoG5EWS1"
      },
      "outputs": [],
      "source": [
        "TRAIN_SOURCE_EPOCHS = 30\n",
        "ADVERSARIAL_EPOCHS = 20\n",
        "BATCH_SIZE = 64\n",
        "NUM_CLASSES = 5\n",
        "\n",
        "IMAGE_SIZE = 64\n",
        "IMAGE_CHANNEL = 3\n",
        "LABEL_NAMES = ['bird', 'car', 'chair', 'dog', 'person']\n",
        "\n",
        "# params for source dataset and target dataset\n",
        "src_dataset = \"labelme\"\n",
        "src_model_trained = True\n",
        "tgt_dataset = \"caltech\"\n",
        "tgt_model_trained = True\n",
        "\n",
        "# params for optimizing models\n",
        "d_learning_rate = 1e-4\n",
        "c_learning_rate = 1e-4\n",
        "BETA1 = 0.5\n",
        "BETA2 = 0.9"
      ]
    },
    {
      "cell_type": "markdown",
      "metadata": {
        "id": "r4pETCUngvjm"
      },
      "source": [
        "# Get dataset "
      ]
    },
    {
      "cell_type": "code",
      "execution_count": 4,
      "metadata": {
        "id": "otIQDZlRMKDL"
      },
      "outputs": [],
      "source": [
        "def read_file_data(file_name='/content/CALTECH_data.h5'):\n",
        "\n",
        "    hf = h5py.File(file_name, 'r')\n",
        "    \n",
        "    X_train = hf.get('X_train')\n",
        "    y_train = hf.get('y_train')\n",
        "    X_train = np.array(X_train)\n",
        "    y_train = np.array(y_train)\n",
        "\n",
        "    X_validation = hf.get('X_validation')\n",
        "    y_validation = hf.get('y_validation')\n",
        "    X_validation = np.array(X_validation)\n",
        "    y_validation = np.array(y_validation)\n",
        "\n",
        "    X_test = hf.get('X_test')\n",
        "    y_test = hf.get('y_test')\n",
        "    X_test = np.array(X_test)\n",
        "    y_test = np.array(y_test)\n",
        "\n",
        "    hf.close()\n",
        "    return ((X_train, y_train), (X_validation, y_validation), (X_test, y_test))"
      ]
    },
    {
      "cell_type": "code",
      "execution_count": 5,
      "metadata": {
        "id": "xJh3lqc_xRf_"
      },
      "outputs": [],
      "source": [
        "def get_dataset(dataset='caltech'):\n",
        "    \n",
        "    if dataset=='caltech':\n",
        "        ((X_train, y_train), (X_validation, y_validation), (X_test, y_test)) = read_file_data(file_name='/content/CALTECH_data.h5')\n",
        "    elif dataset=='labelme':\n",
        "        ((X_train, y_train), (X_validation, y_validation), (X_test, y_test)) = read_file_data(file_name='/content/LABELME_data.h5')\n",
        "    elif dataset=='pascal':\n",
        "        ((X_train, y_train), (X_validation, y_validation), (X_test, y_test)) = read_file_data(file_name='/content/PASCAL_data.h5')\n",
        "    elif dataset=='sun':\n",
        "        ((X_train, y_train), (X_validation, y_validation), (X_test, y_test)) = read_file_data(file_name='/content/SUN_data.h5')\n",
        "    \n",
        "    y_train = to_categorical(y_train, NUM_CLASSES)\n",
        "    y_validation = to_categorical(y_validation, NUM_CLASSES)\n",
        "    y_test = to_categorical(y_test, NUM_CLASSES)\n",
        "\n",
        "    print(\"---------- INFOR OF DATASET ----------\")\n",
        "    print(\"Name: {}\".format(dataset))\n",
        "    print(\"---- X train shape: {}\".format(X_train.shape))\n",
        "    print(\"---- y train shape: {}\".format(y_train.shape))\n",
        "    print(\"---- X validation shape: {}\".format(X_validation.shape))\n",
        "    print(\"---- y validation shape: {}\".format(y_validation.shape))\n",
        "    print(\"---- X test shape: {}\".format(X_test.shape))\n",
        "    print(\"---- y test shape: {}\".format(y_test.shape))\n",
        "    \n",
        "    return ((X_train, y_train), (X_validation, y_validation), (X_test, y_test))"
      ]
    },
    {
      "cell_type": "code",
      "execution_count": 6,
      "metadata": {
        "colab": {
          "base_uri": "https://localhost:8080/"
        },
        "id": "fbxztQV6J5wE",
        "outputId": "a6c6d36b-ccd2-4150-ff1a-08ff166e9c5a"
      },
      "outputs": [
        {
          "output_type": "stream",
          "name": "stdout",
          "text": [
            "---------- INFOR OF DATASET ----------\n",
            "Name: labelme\n",
            "---- X train shape: (20000, 64, 64, 3)\n",
            "---- y train shape: (20000, 5)\n",
            "---- X validation shape: (2500, 64, 64, 3)\n",
            "---- y validation shape: (2500, 5)\n",
            "---- X test shape: (2500, 64, 64, 3)\n",
            "---- y test shape: (2500, 5)\n"
          ]
        }
      ],
      "source": [
        "((X_train, y_train), (X_validation, y_validation), (X_test, y_test)) = get_dataset(src_dataset)"
      ]
    },
    {
      "cell_type": "code",
      "execution_count": 7,
      "metadata": {
        "colab": {
          "base_uri": "https://localhost:8080/",
          "height": 320
        },
        "id": "dGsTVH9nGL4T",
        "outputId": "7c89377f-4004-4224-f579-9a9d611dac7c"
      },
      "outputs": [
        {
          "output_type": "stream",
          "name": "stdout",
          "text": [
            "Label: car\n",
            "Image shape: (64, 64, 3)\n"
          ]
        },
        {
          "output_type": "execute_result",
          "data": {
            "text/plain": [
              "<matplotlib.image.AxesImage at 0x7f53e6183690>"
            ]
          },
          "metadata": {},
          "execution_count": 7
        },
        {
          "output_type": "display_data",
          "data": {
            "text/plain": [
              "<Figure size 432x288 with 1 Axes>"
            ],
            "image/png": "[encoded data removed]"
          },
          "metadata": {
            "needs_background": "light"
          }
        }
      ],
      "source": [
        "# Random plot image\n",
        "idx = np.random.randint(0, X_train.shape[0])\n",
        "test_image = X_train[idx]\n",
        "print(\"Label: {}\".format(LABEL_NAMES[y_train[idx].argmax()]))\n",
        "print(\"Image shape: {}\".format(test_image.shape))\n",
        "\n",
        "plt.imshow(test_image)"
      ]
    },
    {
      "cell_type": "markdown",
      "metadata": {
        "id": "p66Jn2bQrlU_"
      },
      "source": [
        "# Define utils function"
      ]
    },
    {
      "cell_type": "code",
      "execution_count": 8,
      "metadata": {
        "id": "X3jIae7Br8OF"
      },
      "outputs": [],
      "source": [
        "# Nomalize preprocessor \n",
        "class NomalizePreprocessor:\n",
        "    def __init__(self):\n",
        "        pass\n",
        "\n",
        "    def preprocess(self, image):\n",
        "\n",
        "        # Normalize image in range [0, 1]\n",
        "        image = image.astype(np.float32)\n",
        "        image = (image - 127.5) / 127.5 \n",
        "\n",
        "        # Normalize image in range [0, 1]\n",
        "        # image = image.astype(np.float32) / 255.0\n",
        "\n",
        "        return image"
      ]
    },
    {
      "cell_type": "code",
      "execution_count": 9,
      "metadata": {
        "id": "qfdNbUcpwfaY"
      },
      "outputs": [],
      "source": [
        "def PredictGenerator(X, batchSize, preprocessors = None):\n",
        "\n",
        "    N = X.shape[0]\n",
        "\n",
        "    for i in np.arange(0, N, batchSize):\n",
        "\n",
        "        images = X[i: i+batchSize]\n",
        "\n",
        "        if preprocessors is not None:\n",
        "            procImages = []\n",
        "\n",
        "            for image in images:\n",
        "                for p in preprocessors:\n",
        "                    image = p.preprocess(image)\n",
        "\n",
        "                procImages.append(image)\n",
        "            \n",
        "            images = np.array(procImages)\n",
        "\n",
        "        yield images"
      ]
    },
    {
      "cell_type": "code",
      "execution_count": 10,
      "metadata": {
        "id": "i2pErhtprnVG"
      },
      "outputs": [],
      "source": [
        "def DatasetGenerator(X, y, batchSize, preprocessors = None, aug = None):\n",
        "\n",
        "    N = X.shape[0]\n",
        "\n",
        "    while True:\n",
        "\n",
        "        # loop over dataset\n",
        "        for i in np.arange(0, N, batchSize):\n",
        "\n",
        "            images = X[i: i+batchSize]\n",
        "            labels = y[i: i+batchSize]\n",
        "\n",
        "            # check to see if our preprocessors are not None\n",
        "            if preprocessors is not None:\n",
        "\n",
        "                # initialize the list of processed images\n",
        "                procImages = []\n",
        "\n",
        "                # loop over the images\n",
        "                for image in images:\n",
        "                    # loop over the preprocessors and apply each to the image\n",
        "                    for p in preprocessors:\n",
        "                        image = p.preprocess(image)\n",
        "\n",
        "                    # update the list of processed images\n",
        "                    procImages.append(image)\n",
        "                \n",
        "                # update the images array to be the processed images\n",
        "                images = np.array(procImages)\n",
        "\n",
        "            if aug is not None: \n",
        "                (images, labels) = next(aug.flow(images, labels, batch_size=batchSize))\n",
        "\n",
        "            # yield a tuple of images and labels\n",
        "            yield (images, labels)"
      ]
    },
    {
      "cell_type": "code",
      "execution_count": 11,
      "metadata": {
        "id": "zMcTU6gdphyJ"
      },
      "outputs": [],
      "source": [
        "def Predict_Encoder_Classifier(encoder_model, classifier_model, X, batchSize, preprocessors = None):\n",
        "\n",
        "    predict_labels = np.zeros(shape=(1, NUM_CLASSES))\n",
        "\n",
        "    N = X.shape[0]\n",
        "\n",
        "    for i in np.arange(0, N, batchSize):\n",
        "\n",
        "        images = X[i: i+batchSize]\n",
        "\n",
        "        if preprocessors is not None:\n",
        "            procImages = []\n",
        "\n",
        "            for image in images:\n",
        "                for p in preprocessors:\n",
        "                    image = p.preprocess(image)\n",
        "\n",
        "                procImages.append(image)\n",
        "            \n",
        "            images = np.array(procImages)\n",
        "\n",
        "        predicts = classifier_model(encoder_model(images))\n",
        "\n",
        "        predict_labels = np.concatenate((predict_labels, predicts))\n",
        "    \n",
        "    return predict_labels[1:] "
      ]
    },
    {
      "cell_type": "markdown",
      "metadata": {
        "id": "9xhMmDavKamr"
      },
      "source": [
        "# Adversarial discriminator domain adaptation"
      ]
    },
    {
      "cell_type": "code",
      "execution_count": 12,
      "metadata": {
        "id": "u3h_OXrR_P-Y"
      },
      "outputs": [],
      "source": [
        "# custom activation function\n",
        "def custom_activation(output):\n",
        "\tlogexpsum = backend.sum(backend.exp(output), axis=-1, keepdims=True)\n",
        "\tresult = logexpsum / (logexpsum + 1.0)\n",
        "\treturn result"
      ]
    },
    {
      "cell_type": "code",
      "execution_count": 13,
      "metadata": {
        "id": "4_bYiUyHkaOa"
      },
      "outputs": [],
      "source": [
        "class ADDA():\n",
        "    def __init__(self, source_lr=0.001, disc_lr=0.0002):\n",
        "        \n",
        "        # Input shape \n",
        "        self.img_rows = IMAGE_SIZE\n",
        "        self.img_cols = IMAGE_SIZE\n",
        "        self.channels = IMAGE_CHANNEL\n",
        "        self.img_shape = (self.img_rows, self.img_cols, self.channels)\n",
        "\n",
        "        self.src_flag = False\n",
        "        self.tgt_flag = False\n",
        "        self.disc_flag = False\n",
        "        self.classifier_flag = False\n",
        "\n",
        "        self.src_optimizer = Adam(source_lr)\n",
        "        self.disc_optimizer = Adam(disc_lr, beta_1=0.5, beta_2=0.9)\n",
        "\n",
        "        self.num_outputs = NUM_CLASSES\n",
        "\n",
        "        self.feature_map = 32\n",
        "\n",
        "    def define_source_encoder(self, weights=None):\n",
        "        \n",
        "        self.source_encoder = Sequential()\n",
        "        self.source_encoder.add(Input(shape=self.img_shape))\n",
        "\n",
        "        self.source_encoder.add(Conv2D(self.feature_map, (4,4), strides=(2,2), padding=\"same\"))\n",
        "        # self.source_encoder.add(BatchNormalization())\n",
        "        self.source_encoder.add(ReLU())\n",
        "\n",
        "        self.source_encoder.add(Conv2D(self.feature_map * 2, (4,4), strides=(2,2), padding=\"same\"))\n",
        "        # self.source_encoder.add(BatchNormalization())\n",
        "        self.source_encoder.add(ReLU())\n",
        "        \n",
        "        self.source_encoder.add(Conv2D(self.feature_map * 4, (4,4), strides=(2,2), padding=\"same\"))\n",
        "        # self.source_encoder.add(BatchNormalization())\n",
        "        self.source_encoder.add(ReLU())\n",
        "\n",
        "        self.source_encoder.add(Conv2D(self.feature_map * 8, (4,4), strides=(2,2), padding=\"same\"))\n",
        "        # self.source_encoder.add(BatchNormalization())\n",
        "        self.source_encoder.add(ReLU())\n",
        "        \n",
        "        self.src_flag = True\n",
        "\n",
        "        if weights is not None:\n",
        "            self.source_encoder.load_weights(weights, by_name=True)\n",
        "    \n",
        "    def define_target_encoder(self, weights=None):\n",
        "        \n",
        "        if not self.src_flag:\n",
        "            self.define_source_encoder()\n",
        "        \n",
        "        with tf.device('/cpu:0'):\n",
        "            self.target_encoder = clone_model(self.source_encoder)\n",
        "            self.tgt_flag = True\n",
        "        \n",
        "        if weights is not None:\n",
        "            self.target_encoder.load_weights(weights, by_name=True)\n",
        "\n",
        "    def define_classifier(self, weights=None):\n",
        "\n",
        "        inputShape = self.source_encoder.output.shape[1:]\n",
        "\n",
        "        self.classifier = Sequential(name=\"Classifier\")\n",
        "        self.classifier.add(Input(shape=inputShape))\n",
        "\n",
        "        self.classifier.add(GlobalAveragePooling2D())\n",
        "        self.classifier.add(Dense(100, activation=\"relu\"))\n",
        "        self.classifier.add(Dropout(0.5))\n",
        "        self.classifier.add(Dense(self.num_outputs, activation=\"softmax\"))\n",
        "\n",
        "        self.classifier_flag = True\n",
        "        self.classifier.summary()\n",
        "\n",
        "        if weights is not None:\n",
        "            self.classifier.load_weights(weights, by_name=True)\n",
        "\n",
        "\n",
        "    def get_encoder_and_classifier(self, weights_classifier=None):\n",
        "        \n",
        "        if not self.classifier_flag:\n",
        "            self.define_classifier(weights_classifier)\n",
        "\n",
        "        input = self.source_encoder.inputs\n",
        "        output = self.classifier(self.source_encoder.outputs)\n",
        "\n",
        "        encoder_classifier_model = Model(inputs=input, outputs=output, name=\"encoder_classifier\")\n",
        "        \n",
        "        return encoder_classifier_model\n",
        "\n",
        "    def define_discriminator(self, encoder_output_shape, hiddens_3 = NUM_CLASSES):\n",
        "\n",
        "        inp = Input(shape=encoder_output_shape)\n",
        "\n",
        "        x = Conv2DTranspose(self.feature_map * 4, (4, 4), strides=(2,2), padding=\"same\")(inp)\n",
        "        # x = BatchNormalization()(x)\n",
        "        x = LeakyReLU(alpha=0.2)(x)\n",
        "\n",
        "        x = Conv2DTranspose(self.feature_map * 2, (4, 4), strides=(2,2), padding=\"same\")(x)\n",
        "        # x = BatchNormalization()(x)\n",
        "        x = LeakyReLU(alpha=0.2)(x)\n",
        "        \n",
        "        x = Conv2DTranspose(self.feature_map, (4, 4), strides=(2,2), padding=\"same\")(x)\n",
        "        # x = BatchNormalization()(x)\n",
        "        x = LeakyReLU(alpha=0.2)(x)\n",
        "\n",
        "        x = Conv2DTranspose(IMAGE_CHANNEL, (4, 4), strides=(2,2), padding=\"same\")(x)\n",
        "        # x = BatchNormalization()(x)\n",
        "        x = LeakyReLU(alpha=0.2)(x)\n",
        "\n",
        "        x = Flatten()(x)\n",
        "\n",
        "        x = Dense(hiddens_3, name='discriminator3')(x)\n",
        "\n",
        "        # Define unsupervised discriminator model\n",
        "        d_out_layer = Lambda(custom_activation)(x)\n",
        "        self.discriminator_model = Model(inputs=(inp), outputs=(d_out_layer), name='unsupervised_discriminator')\n",
        "\n",
        "        # Define supervised discriminator\n",
        "        c_out_layer = Activation(\"softmax\")(x)\n",
        "        self.supervised_discriminator_model = Model(inputs=(inp), outputs=(c_out_layer), name=\"supervised_discriminator\")\n",
        "\n",
        "        self.disc_flag = True\n",
        "\n",
        "\n",
        "    def get_whole_encoder_and_discriminator(self, encoder, weights=None):\n",
        "        \n",
        "        if not self.disc_flag:\n",
        "            self.define_discriminator(encoder.output_shape[1:])\n",
        "        \n",
        "        disc = Model(inputs=(encoder.input), outputs=(self.discriminator_model(encoder.output)))\n",
        "        \n",
        "        if weights is not None:\n",
        "            disc.load_weights(weights, by_name=True)\n",
        "        \n",
        "        return disc\n",
        "\n",
        "    def train_source_model(self, model, epochs=TRAIN_SOURCE_EPOCHS, batch_size=BATCH_SIZE, save_interval=1):\n",
        "\n",
        "        if not os.path.isdir('model'):\n",
        "            os.mkdir('model')\n",
        "\n",
        "        ((X_train, y_train), (X_validation, y_validation), (X_test, y_test)) = get_dataset(src_dataset)\n",
        "\n",
        "        # Preprocess\n",
        "        normPro = NomalizePreprocessor()\n",
        "\n",
        "        # Dataset generator\n",
        "        trainGen = DatasetGenerator(X_train, y_train, batchSize=batch_size, preprocessors = [normPro])\n",
        "        valGen = DatasetGenerator(X_validation, y_validation, batchSize=batch_size, preprocessors = [normPro])\n",
        "\n",
        "        # Early stopping\n",
        "        earlyStoppingCallback = EarlyStopping(monitor='val_accuracy', mode='auto', min_delta=0, patience=5, restore_best_weights=True)\n",
        "\n",
        "        model.compile(loss='categorical_crossentropy', optimizer=self.src_optimizer, metrics=['accuracy'])\n",
        "        model.summary()\n",
        "\n",
        "        N_train = X_train.shape[0]\n",
        "        N_val = X_validation.shape[0]\n",
        "\n",
        "        STEPS_PER_EPOCH = N_train//batch_size\n",
        "        VAL_STEPS = N_val//batch_size\n",
        "\n",
        "        model.fit(trainGen, \\\n",
        "                steps_per_epoch = STEPS_PER_EPOCH, \\\n",
        "                validation_data = valGen, \\\n",
        "                validation_steps = VAL_STEPS, \\\n",
        "                epochs = epochs, \\\n",
        "                callbacks=[earlyStoppingCallback], verbose=1)\n",
        "        \n",
        "        # Evaluate on testing dataset\n",
        "        testGen = PredictGenerator(X_test, batchSize=BATCH_SIZE, preprocessors = [normPro])\n",
        "        y_test_predict = model.predict(testGen)\n",
        "\n",
        "        print('---CLASSIFICATION REPORT ---')\n",
        "        print(classification_report(y_true=y_test.argmax(axis=1), y_pred=y_test_predict.argmax(axis=1)))\n",
        "    \n",
        "        # Save classification model\n",
        "        model.save(os.path.join(\"model\", \"source_classification.h5\"))\n",
        "        \n",
        "        # Save source encoder model \n",
        "        source_encoder = Sequential()\n",
        "        source_encoder.build(self.img_shape)\n",
        "\n",
        "        for layer in model.layers[:-1]:\n",
        "            source_encoder.add(layer)\n",
        "\n",
        "        source_encoder.save(os.path.join(\"model\", \"source_encoder.h5\"))\n",
        "\n",
        "        # Save classifier model\n",
        "        classifier_model = Sequential()\n",
        "        classifier_model.add(Input(source_encoder.output_shape[1:]))\n",
        "\n",
        "        for layer in model.layers[-1:]:\n",
        "            classifier_model.add(layer)\n",
        "\n",
        "        classifier_model.save(os.path.join(\"model\", \"classifier.h5\"))\n",
        "\n",
        "    # ====================================================================================\n",
        "\n",
        "    def train_target(self, epochs=ADVERSARIAL_EPOCHS, batch_size=BATCH_SIZE, save_interval=1,\n",
        "                    test_images=None, test_labels=None):\n",
        "\n",
        "        # 1. Load dataset and define preprocessing method\n",
        "        ((X_train_source, y_train_source), (X_validation_source, y_validation_source), (_, _)) = get_dataset(src_dataset)\n",
        "        source_image = np.concatenate([X_train_source, X_validation_source])\n",
        "        source_label = np.concatenate([y_train_source, y_validation_source])\n",
        "\n",
        "        ((X_train_target, y_train_target), (X_validation_target, y_validation_target), (_, _)) = get_dataset(tgt_dataset)\n",
        "        target_image = np.concatenate([X_train_target, X_validation_target])\n",
        "\n",
        "        normPro = NomalizePreprocessor()\n",
        "\n",
        "        # 2. Define target encoder (if it doesn't exits)\n",
        "        if not self.tgt_flag:\n",
        "            weights = os.path.join(\"model\", \"source_encoder.h5\")\n",
        "            if os.path.isfile(weights):\n",
        "                print(\"[INFO]: target_encoder is copy from {}\".format(weights))\n",
        "                self.define_target_encoder(weights)\n",
        "            else:\n",
        "                self.define_target_encoder()\n",
        "        \n",
        "        # 3. Compile supervised discriminator model and unsupervised discriminator model\n",
        "        self.supervised_discriminator_model.compile(loss='categorical_crossentropy', optimizer=self.disc_optimizer, metrics=['accuracy'])\n",
        "        self.supervised_discriminator_model.summary()\n",
        "\n",
        "        self.discriminator_model.compile(loss=\"binary_crossentropy\", optimizer=self.disc_optimizer)\n",
        "        self.discriminator_model.summary()\n",
        "\n",
        "        # Build adversarial model by setting the discriminator to *not* be trainable\n",
        "        self.discriminator_model.trainable = False\n",
        "\n",
        "        whole_target_disc_model = self.get_whole_encoder_and_discriminator(self.target_encoder)\n",
        "        whole_target_disc_model.compile(loss=\"binary_crossentropy\", optimizer=self.disc_optimizer)\n",
        "        whole_target_disc_model.summary()\n",
        "\n",
        "        # 4. Loop through epoch\n",
        "        for epoch in range(0, epochs):\n",
        "            \n",
        "            print(\"-----[INFO] starting epoch {} of {}...\".format(epoch, epochs))     \n",
        "\n",
        "            # Calculate accuracy (for testing purpose)\n",
        "            if epoch % 2 == 0:\n",
        "\n",
        "                # Checkpoint target_encoder\n",
        "                file_name = \"target_encode_{}.h5\".format(epoch)\n",
        "                self.target_encoder.save(os.path.join(\"model\", file_name))\n",
        "\n",
        "                # Load classifier model\n",
        "                classifier_model = load_model(\"/content/model/classifier.h5\")\n",
        "                \n",
        "                # Predict\n",
        "                normPro = NomalizePreprocessor()\n",
        "                predict_labels = Predict_Encoder_Classifier(self.target_encoder, classifier_model, test_images, batchSize=batch_size, preprocessors=[normPro])\n",
        "\n",
        "                # Calculate accuracy\n",
        "                accuracy = np.sum(predict_labels.argmax(-1) == test_labels.argmax(-1)) / len(test_labels)\n",
        "                print(\" * Accuracy at epoch {}: is {}\".format(epoch, accuracy))       \n",
        "            \n",
        "            # Update learning rate of discriminator \n",
        "            if (epoch > 0) and (epoch % 10 == 0):\n",
        "                new_learning_rate = self.disc_optimizer.learning_rate / 10.0\n",
        "                print(\" * Update learning rate of discriminator model to: \", new_learning_rate)\n",
        "                print(\" * Update learning rate of the whole model to: \", new_learning_rate)\n",
        "                backend.set_value(self.discriminator_model.optimizer.learning_rate, new_learning_rate)\n",
        "                backend.set_value(self.supervised_discriminator_model.optimizer.learning_rate, new_learning_rate)\n",
        "            \n",
        "            N = max([source_image.shape[0], target_image.shape[0]])\n",
        "            n_steps = N // batch_size\n",
        "            for i in np.arange(n_steps):\n",
        "\n",
        "                idx_source = np.random.randint(0, source_image.shape[0], batch_size)\n",
        "                batch_source_image = source_image[idx_source]\n",
        "                batch_source_label = source_label[idx_source]\n",
        "\n",
        "                idx_target = np.random.randint(0, target_image.shape[0], batch_size)\n",
        "                batch_target_image = target_image[idx_target]\n",
        "\n",
        "                # ----- Preprocess image -----\n",
        "                processed_batch_source_image = []\n",
        "                for image in batch_source_image:\n",
        "                    image = normPro.preprocess(image)\n",
        "                    processed_batch_source_image.append(image)\n",
        "                batch_source_image = np.array(processed_batch_source_image)\n",
        "\n",
        "                processed_batch_target_image = []\n",
        "                for image in batch_target_image:\n",
        "                    image = normPro.preprocess(image)\n",
        "                    processed_batch_target_image.append(image)\n",
        "                    \n",
        "                batch_target_image = np.array(processed_batch_target_image)\n",
        "\n",
        "                # ----- Prepare data -----\n",
        "                source_encode = self.source_encoder.predict(batch_source_image)\n",
        "                target_encode = self.target_encoder.predict(batch_target_image)\n",
        "                encode = np.concatenate((source_encode, target_encode))\n",
        "                \n",
        "                encode_label = ([0.9] * batch_source_image.shape[0]) + ([0.1] * batch_target_image.shape[0])  # soft label: source: 0.9, target: 0.1\n",
        "                encode_label = np.reshape(encode_label, (-1,))\n",
        "                (encode, encode_label) = shuffle(encode, encode_label)\n",
        "\n",
        "                # ----- Train supervised discriminator -----\n",
        "                classificationLloss = self.supervised_discriminator_model.train_on_batch(source_encode, batch_source_label)\n",
        "\n",
        "                # ----- Train unsupervised discriminator -----\n",
        "                discLoss = self.discriminator_model.train_on_batch(encode, encode_label)\n",
        "\n",
        "                # ----- Train target encoder -----\n",
        "                fakeLabels = [1.0] * batch_target_image.shape[0]\n",
        "                fakeLabels = np.reshape(fakeLabels, (-1,))\n",
        "                (batch_target_image, fakeLabels) = shuffle(batch_target_image, fakeLabels)\n",
        "\n",
        "                # ----- Adversarial training with interted label -----\n",
        "                adversarialLoss = whole_target_disc_model.train_on_batch(batch_target_image, fakeLabels)\n",
        "\n",
        "            print(\"Classification loss: {}, discriminator loss: {}, adversarial loss: {}\".format(classificationLloss, discLoss, adversarialLoss))\n",
        "\n",
        "        self.target_encoder.save(os.path.join(\"model\", \"target_encoder.h5\"))"
      ]
    },
    {
      "cell_type": "markdown",
      "metadata": {
        "id": "et3bHPGouyW_"
      },
      "source": [
        "# Training"
      ]
    },
    {
      "cell_type": "code",
      "execution_count": 14,
      "metadata": {
        "colab": {
          "base_uri": "https://localhost:8080/"
        },
        "id": "Td3zQAXum_Ll",
        "outputId": "7d889783-305a-4d91-d1c0-26ccdacbac2b"
      },
      "outputs": [
        {
          "output_type": "stream",
          "name": "stdout",
          "text": [
            "Model: \"Classifier\"\n",
            "_________________________________________________________________\n",
            " Layer (type)                Output Shape              Param #   \n",
            "=================================================================\n",
            " global_average_pooling2d (G  (None, 256)              0         \n",
            " lobalAveragePooling2D)                                          \n",
            "                                                                 \n",
            " dense (Dense)               (None, 100)               25700     \n",
            "                                                                 \n",
            " dropout (Dropout)           (None, 100)               0         \n",
            "                                                                 \n",
            " dense_1 (Dense)             (None, 5)                 505       \n",
            "                                                                 \n",
            "=================================================================\n",
            "Total params: 26,205\n",
            "Trainable params: 26,205\n",
            "Non-trainable params: 0\n",
            "_________________________________________________________________\n",
            "---------- INFOR OF DATASET ----------\n",
            "Name: labelme\n",
            "---- X train shape: (20000, 64, 64, 3)\n",
            "---- y train shape: (20000, 5)\n",
            "---- X validation shape: (2500, 64, 64, 3)\n",
            "---- y validation shape: (2500, 5)\n",
            "---- X test shape: (2500, 64, 64, 3)\n",
            "---- y test shape: (2500, 5)\n",
            "Model: \"encoder_classifier\"\n",
            "_________________________________________________________________\n",
            " Layer (type)                Output Shape              Param #   \n",
            "=================================================================\n",
            " input_1 (InputLayer)        [(None, 64, 64, 3)]       0         \n",
            "                                                                 \n",
            " conv2d (Conv2D)             (None, 32, 32, 32)        1568      \n",
            "                                                                 \n",
            " re_lu (ReLU)                (None, 32, 32, 32)        0         \n",
            "                                                                 \n",
            " conv2d_1 (Conv2D)           (None, 16, 16, 64)        32832     \n",
            "                                                                 \n",
            " re_lu_1 (ReLU)              (None, 16, 16, 64)        0         \n",
            "                                                                 \n",
            " conv2d_2 (Conv2D)           (None, 8, 8, 128)         131200    \n",
            "                                                                 \n",
            " re_lu_2 (ReLU)              (None, 8, 8, 128)         0         \n",
            "                                                                 \n",
            " conv2d_3 (Conv2D)           (None, 4, 4, 256)         524544    \n",
            "                                                                 \n",
            " re_lu_3 (ReLU)              (None, 4, 4, 256)         0         \n",
            "                                                                 \n",
            " Classifier (Sequential)     (None, 5)                 26205     \n",
            "                                                                 \n",
            "=================================================================\n",
            "Total params: 716,349\n",
            "Trainable params: 716,349\n",
            "Non-trainable params: 0\n",
            "_________________________________________________________________\n",
            "Epoch 1/30\n",
            "312/312 [==============================] - 7s 12ms/step - loss: 1.4391 - accuracy: 0.3488 - val_loss: 1.2488 - val_accuracy: 0.4431\n",
            "Epoch 2/30\n",
            "312/312 [==============================] - 3s 10ms/step - loss: 1.0878 - accuracy: 0.5453 - val_loss: 0.8574 - val_accuracy: 0.6635\n",
            "Epoch 3/30\n",
            "312/312 [==============================] - 3s 9ms/step - loss: 0.7384 - accuracy: 0.7054 - val_loss: 0.6197 - val_accuracy: 0.7540\n",
            "Epoch 4/30\n",
            "312/312 [==============================] - 3s 9ms/step - loss: 0.5376 - accuracy: 0.7817 - val_loss: 0.5013 - val_accuracy: 0.7889\n",
            "Epoch 5/30\n",
            "312/312 [==============================] - 3s 9ms/step - loss: 0.4245 - accuracy: 0.8262 - val_loss: 0.5338 - val_accuracy: 0.7969\n",
            "Epoch 6/30\n",
            "312/312 [==============================] - 3s 9ms/step - loss: 0.3521 - accuracy: 0.8561 - val_loss: 0.4585 - val_accuracy: 0.8297\n",
            "Epoch 7/30\n",
            "312/312 [==============================] - 3s 9ms/step - loss: 0.3024 - accuracy: 0.8766 - val_loss: 0.4768 - val_accuracy: 0.8221\n",
            "Epoch 8/30\n",
            "312/312 [==============================] - 3s 9ms/step - loss: 0.2388 - accuracy: 0.9031 - val_loss: 0.4763 - val_accuracy: 0.8365\n",
            "Epoch 9/30\n",
            "312/312 [==============================] - 3s 9ms/step - loss: 0.2034 - accuracy: 0.9200 - val_loss: 0.4322 - val_accuracy: 0.8594\n",
            "Epoch 10/30\n",
            "312/312 [==============================] - 3s 9ms/step - loss: 0.1508 - accuracy: 0.9429 - val_loss: 0.4709 - val_accuracy: 0.8458\n",
            "Epoch 11/30\n",
            "312/312 [==============================] - 3s 9ms/step - loss: 0.1172 - accuracy: 0.9584 - val_loss: 0.4571 - val_accuracy: 0.8650\n",
            "Epoch 12/30\n",
            "312/312 [==============================] - 3s 9ms/step - loss: 0.0937 - accuracy: 0.9675 - val_loss: 0.5859 - val_accuracy: 0.8522\n",
            "Epoch 13/30\n",
            "312/312 [==============================] - 3s 9ms/step - loss: 0.0836 - accuracy: 0.9717 - val_loss: 0.4982 - val_accuracy: 0.8598\n",
            "Epoch 14/30\n",
            "312/312 [==============================] - 3s 9ms/step - loss: 0.0662 - accuracy: 0.9775 - val_loss: 0.5987 - val_accuracy: 0.8654\n",
            "Epoch 15/30\n",
            "312/312 [==============================] - 3s 8ms/step - loss: 0.0530 - accuracy: 0.9820 - val_loss: 0.5684 - val_accuracy: 0.8762\n",
            "Epoch 16/30\n",
            "312/312 [==============================] - 3s 9ms/step - loss: 0.0483 - accuracy: 0.9837 - val_loss: 0.5549 - val_accuracy: 0.8710\n",
            "Epoch 17/30\n",
            "312/312 [==============================] - 3s 9ms/step - loss: 0.0487 - accuracy: 0.9839 - val_loss: 0.4628 - val_accuracy: 0.8854\n",
            "Epoch 18/30\n",
            "312/312 [==============================] - 3s 9ms/step - loss: 0.0438 - accuracy: 0.9863 - val_loss: 0.5701 - val_accuracy: 0.8834\n",
            "Epoch 19/30\n",
            "312/312 [==============================] - 3s 9ms/step - loss: 0.0311 - accuracy: 0.9898 - val_loss: 0.5736 - val_accuracy: 0.8838\n",
            "Epoch 20/30\n",
            "312/312 [==============================] - 3s 9ms/step - loss: 0.0450 - accuracy: 0.9854 - val_loss: 0.5929 - val_accuracy: 0.8770\n",
            "Epoch 21/30\n",
            "312/312 [==============================] - 3s 9ms/step - loss: 0.0393 - accuracy: 0.9881 - val_loss: 0.6633 - val_accuracy: 0.8758\n",
            "Epoch 22/30\n",
            "312/312 [==============================] - 3s 9ms/step - loss: 0.0323 - accuracy: 0.9900 - val_loss: 0.6393 - val_accuracy: 0.8830\n"
          ]
        },
        {
          "output_type": "stream",
          "name": "stderr",
          "text": [
            "WARNING:tensorflow:Compiled the loaded model, but the compiled metrics have yet to be built. `model.compile_metrics` will be empty until you train or evaluate the model.\n",
            "WARNING:tensorflow:Compiled the loaded model, but the compiled metrics have yet to be built. `model.compile_metrics` will be empty until you train or evaluate the model.\n"
          ]
        },
        {
          "output_type": "stream",
          "name": "stdout",
          "text": [
            "---CLASSIFICATION REPORT ---\n",
            "              precision    recall  f1-score   support\n",
            "\n",
            "           0       0.97      0.95      0.96       497\n",
            "           1       0.79      0.78      0.78       525\n",
            "           2       0.93      0.94      0.93       481\n",
            "           3       0.96      0.95      0.96       507\n",
            "           4       0.71      0.74      0.73       490\n",
            "\n",
            "    accuracy                           0.87      2500\n",
            "   macro avg       0.87      0.87      0.87      2500\n",
            "weighted avg       0.87      0.87      0.87      2500\n",
            "\n"
          ]
        }
      ],
      "source": [
        "# Training base model\n",
        "\n",
        "adda = ADDA()\n",
        "\n",
        "adda.define_source_encoder()\n",
        "\n",
        "adda.define_classifier()\n",
        "\n",
        "model = adda.get_encoder_and_classifier()\n",
        "\n",
        "adda.train_source_model(model, epochs=TRAIN_SOURCE_EPOCHS)"
      ]
    },
    {
      "cell_type": "code",
      "execution_count": 15,
      "metadata": {
        "colab": {
          "base_uri": "https://localhost:8080/"
        },
        "id": "GIfxIX8bmETk",
        "outputId": "5fb9a349-ac83-435f-9603-338effd9cd7e"
      },
      "outputs": [
        {
          "output_type": "stream",
          "name": "stdout",
          "text": [
            "---------- INFOR OF DATASET ----------\n",
            "Name: caltech\n",
            "---- X train shape: (20000, 64, 64, 3)\n",
            "---- y train shape: (20000, 5)\n",
            "---- X validation shape: (2500, 64, 64, 3)\n",
            "---- y validation shape: (2500, 5)\n",
            "---- X test shape: (2500, 64, 64, 3)\n",
            "---- y test shape: (2500, 5)\n"
          ]
        }
      ],
      "source": [
        "# Load target dataset\n",
        "\n",
        "((X_train_target, y_train_target), (X_validation_target, y_validation_target), (_, _)) = get_dataset(tgt_dataset)\n",
        "\n",
        "target_x = np.concatenate((X_train_target, X_validation_target), axis=0)\n",
        "target_y = np.concatenate((y_train_target, y_validation_target), axis=0)"
      ]
    },
    {
      "cell_type": "code",
      "execution_count": 16,
      "metadata": {
        "colab": {
          "base_uri": "https://localhost:8080/"
        },
        "id": "rpCvG-3I05V_",
        "outputId": "a1dfa397-0642-4378-f274-dfe0daf2dc76"
      },
      "outputs": [
        {
          "output_type": "stream",
          "name": "stdout",
          "text": [
            "Accuracy is 0.31751111111111113\n"
          ]
        }
      ],
      "source": [
        "model = load_model(\"/content/model/source_classification.h5\")\n",
        "\n",
        "# Preprocess\n",
        "normPro = NomalizePreprocessor()\n",
        "\n",
        "# Predict\n",
        "testGen = PredictGenerator(target_x, batchSize=BATCH_SIZE, preprocessors = [normPro])\n",
        "\n",
        "predict_labels = model.predict(testGen)\n",
        "\n",
        "# Calculate accuracy\n",
        "accuracy = np.sum(predict_labels.argmax(-1) == target_y.argmax(-1)) / len(target_y)\n",
        "\n",
        "print(\"Accuracy is {}\".format(accuracy))"
      ]
    },
    {
      "cell_type": "code",
      "execution_count": 17,
      "metadata": {
        "colab": {
          "base_uri": "https://localhost:8080/"
        },
        "id": "d8lfKNCy3ItW",
        "outputId": "85aaedfc-4e5e-43e2-91f4-b239df7513d1"
      },
      "outputs": [
        {
          "output_type": "stream",
          "name": "stdout",
          "text": [
            "---------- INFOR OF DATASET ----------\n",
            "Name: labelme\n",
            "---- X train shape: (20000, 64, 64, 3)\n",
            "---- y train shape: (20000, 5)\n",
            "---- X validation shape: (2500, 64, 64, 3)\n",
            "---- y validation shape: (2500, 5)\n",
            "---- X test shape: (2500, 64, 64, 3)\n",
            "---- y test shape: (2500, 5)\n",
            "---------- INFOR OF DATASET ----------\n",
            "Name: caltech\n",
            "---- X train shape: (20000, 64, 64, 3)\n",
            "---- y train shape: (20000, 5)\n",
            "---- X validation shape: (2500, 64, 64, 3)\n",
            "---- y validation shape: (2500, 5)\n",
            "---- X test shape: (2500, 64, 64, 3)\n",
            "---- y test shape: (2500, 5)\n",
            "[INFO]: target_encoder is copy from model/source_encoder.h5\n",
            "Model: \"supervised_discriminator\"\n",
            "_________________________________________________________________\n",
            " Layer (type)                Output Shape              Param #   \n",
            "=================================================================\n",
            " input_4 (InputLayer)        [(None, 4, 4, 256)]       0         \n",
            "                                                                 \n",
            " conv2d_transpose (Conv2DTra  (None, 8, 8, 128)        524416    \n",
            " nspose)                                                         \n",
            "                                                                 \n",
            " leaky_re_lu (LeakyReLU)     (None, 8, 8, 128)         0         \n",
            "                                                                 \n",
            " conv2d_transpose_1 (Conv2DT  (None, 16, 16, 64)       131136    \n",
            " ranspose)                                                       \n",
            "                                                                 \n",
            " leaky_re_lu_1 (LeakyReLU)   (None, 16, 16, 64)        0         \n",
            "                                                                 \n",
            " conv2d_transpose_2 (Conv2DT  (None, 32, 32, 32)       32800     \n",
            " ranspose)                                                       \n",
            "                                                                 \n",
            " leaky_re_lu_2 (LeakyReLU)   (None, 32, 32, 32)        0         \n",
            "                                                                 \n",
            " conv2d_transpose_3 (Conv2DT  (None, 64, 64, 3)        1539      \n",
            " ranspose)                                                       \n",
            "                                                                 \n",
            " leaky_re_lu_3 (LeakyReLU)   (None, 64, 64, 3)         0         \n",
            "                                                                 \n",
            " flatten (Flatten)           (None, 12288)             0         \n",
            "                                                                 \n",
            " discriminator3 (Dense)      (None, 5)                 61445     \n",
            "                                                                 \n",
            " activation (Activation)     (None, 5)                 0         \n",
            "                                                                 \n",
            "=================================================================\n",
            "Total params: 751,336\n",
            "Trainable params: 751,336\n",
            "Non-trainable params: 0\n",
            "_________________________________________________________________\n",
            "Model: \"unsupervised_discriminator\"\n",
            "_________________________________________________________________\n",
            " Layer (type)                Output Shape              Param #   \n",
            "=================================================================\n",
            " input_4 (InputLayer)        [(None, 4, 4, 256)]       0         \n",
            "                                                                 \n",
            " conv2d_transpose (Conv2DTra  (None, 8, 8, 128)        524416    \n",
            " nspose)                                                         \n",
            "                                                                 \n",
            " leaky_re_lu (LeakyReLU)     (None, 8, 8, 128)         0         \n",
            "                                                                 \n",
            " conv2d_transpose_1 (Conv2DT  (None, 16, 16, 64)       131136    \n",
            " ranspose)                                                       \n",
            "                                                                 \n",
            " leaky_re_lu_1 (LeakyReLU)   (None, 16, 16, 64)        0         \n",
            "                                                                 \n",
            " conv2d_transpose_2 (Conv2DT  (None, 32, 32, 32)       32800     \n",
            " ranspose)                                                       \n",
            "                                                                 \n",
            " leaky_re_lu_2 (LeakyReLU)   (None, 32, 32, 32)        0         \n",
            "                                                                 \n",
            " conv2d_transpose_3 (Conv2DT  (None, 64, 64, 3)        1539      \n",
            " ranspose)                                                       \n",
            "                                                                 \n",
            " leaky_re_lu_3 (LeakyReLU)   (None, 64, 64, 3)         0         \n",
            "                                                                 \n",
            " flatten (Flatten)           (None, 12288)             0         \n",
            "                                                                 \n",
            " discriminator3 (Dense)      (None, 5)                 61445     \n",
            "                                                                 \n",
            " lambda (Lambda)             (None, 1)                 0         \n",
            "                                                                 \n",
            "=================================================================\n",
            "Total params: 751,336\n",
            "Trainable params: 751,336\n",
            "Non-trainable params: 0\n",
            "_________________________________________________________________\n",
            "Model: \"model\"\n",
            "_________________________________________________________________\n",
            " Layer (type)                Output Shape              Param #   \n",
            "=================================================================\n",
            " input_1 (InputLayer)        [(None, 64, 64, 3)]       0         \n",
            "                                                                 \n",
            " conv2d (Conv2D)             (None, 32, 32, 32)        1568      \n",
            "                                                                 \n",
            " re_lu (ReLU)                (None, 32, 32, 32)        0         \n",
            "                                                                 \n",
            " conv2d_1 (Conv2D)           (None, 16, 16, 64)        32832     \n",
            "                                                                 \n",
            " re_lu_1 (ReLU)              (None, 16, 16, 64)        0         \n",
            "                                                                 \n",
            " conv2d_2 (Conv2D)           (None, 8, 8, 128)         131200    \n",
            "                                                                 \n",
            " re_lu_2 (ReLU)              (None, 8, 8, 128)         0         \n",
            "                                                                 \n",
            " conv2d_3 (Conv2D)           (None, 4, 4, 256)         524544    \n",
            "                                                                 \n",
            " re_lu_3 (ReLU)              (None, 4, 4, 256)         0         \n",
            "                                                                 \n",
            " unsupervised_discriminator   (None, 1)                751336    \n",
            " (Functional)                                                    \n",
            "                                                                 \n",
            "=================================================================\n",
            "Total params: 1,441,480\n",
            "Trainable params: 690,144\n",
            "Non-trainable params: 751,336\n",
            "_________________________________________________________________\n"
          ]
        },
        {
          "output_type": "stream",
          "name": "stderr",
          "text": [
            "WARNING:tensorflow:Compiled the loaded model, but the compiled metrics have yet to be built. `model.compile_metrics` will be empty until you train or evaluate the model.\n"
          ]
        },
        {
          "output_type": "stream",
          "name": "stdout",
          "text": [
            "-----[INFO] starting epoch 0 of 20...\n"
          ]
        },
        {
          "output_type": "stream",
          "name": "stderr",
          "text": [
            "WARNING:tensorflow:No training configuration found in the save file, so the model was *not* compiled. Compile it manually.\n"
          ]
        },
        {
          "output_type": "stream",
          "name": "stdout",
          "text": [
            " * Accuracy at epoch 0: is 0.31751111111111113\n",
            "Classification loss: [0.05339164286851883, 1.0], discriminator loss: 0.5326501131057739, adversarial loss: 1.1928521394729614\n",
            "-----[INFO] starting epoch 1 of 20...\n"
          ]
        },
        {
          "output_type": "stream",
          "name": "stderr",
          "text": [
            "WARNING:tensorflow:Compiled the loaded model, but the compiled metrics have yet to be built. `model.compile_metrics` will be empty until you train or evaluate the model.\n",
            "WARNING:tensorflow:No training configuration found in the save file, so the model was *not* compiled. Compile it manually.\n"
          ]
        },
        {
          "output_type": "stream",
          "name": "stdout",
          "text": [
            "Classification loss: [0.016814637929201126, 1.0], discriminator loss: 0.4815428555011749, adversarial loss: 1.4615404605865479\n",
            "-----[INFO] starting epoch 2 of 20...\n",
            " * Accuracy at epoch 2: is 0.4212888888888889\n",
            "Classification loss: [0.03607308864593506, 0.984375], discriminator loss: 0.4545063078403473, adversarial loss: 1.875016689300537\n",
            "-----[INFO] starting epoch 3 of 20...\n"
          ]
        },
        {
          "output_type": "stream",
          "name": "stderr",
          "text": [
            "WARNING:tensorflow:Compiled the loaded model, but the compiled metrics have yet to be built. `model.compile_metrics` will be empty until you train or evaluate the model.\n",
            "WARNING:tensorflow:No training configuration found in the save file, so the model was *not* compiled. Compile it manually.\n"
          ]
        },
        {
          "output_type": "stream",
          "name": "stdout",
          "text": [
            "Classification loss: [0.026041947305202484, 1.0], discriminator loss: 0.45777490735054016, adversarial loss: 1.5607380867004395\n",
            "-----[INFO] starting epoch 4 of 20...\n",
            " * Accuracy at epoch 4: is 0.4126666666666667\n",
            "Classification loss: [0.0627671480178833, 0.984375], discriminator loss: 0.43504977226257324, adversarial loss: 2.14914870262146\n",
            "-----[INFO] starting epoch 5 of 20...\n"
          ]
        },
        {
          "output_type": "stream",
          "name": "stderr",
          "text": [
            "WARNING:tensorflow:Compiled the loaded model, but the compiled metrics have yet to be built. `model.compile_metrics` will be empty until you train or evaluate the model.\n",
            "WARNING:tensorflow:No training configuration found in the save file, so the model was *not* compiled. Compile it manually.\n"
          ]
        },
        {
          "output_type": "stream",
          "name": "stdout",
          "text": [
            "Classification loss: [0.015612173825502396, 1.0], discriminator loss: 0.3942447900772095, adversarial loss: 2.0636379718780518\n",
            "-----[INFO] starting epoch 6 of 20...\n",
            " * Accuracy at epoch 6: is 0.41346666666666665\n",
            "Classification loss: [0.00872910674661398, 1.0], discriminator loss: 0.37695181369781494, adversarial loss: 2.3064842224121094\n",
            "-----[INFO] starting epoch 7 of 20...\n"
          ]
        },
        {
          "output_type": "stream",
          "name": "stderr",
          "text": [
            "WARNING:tensorflow:Compiled the loaded model, but the compiled metrics have yet to be built. `model.compile_metrics` will be empty until you train or evaluate the model.\n",
            "WARNING:tensorflow:No training configuration found in the save file, so the model was *not* compiled. Compile it manually.\n"
          ]
        },
        {
          "output_type": "stream",
          "name": "stdout",
          "text": [
            "Classification loss: [0.005006415769457817, 1.0], discriminator loss: 0.39206674695014954, adversarial loss: 2.0003461837768555\n",
            "-----[INFO] starting epoch 8 of 20...\n",
            " * Accuracy at epoch 8: is 0.4265333333333333\n",
            "Classification loss: [0.003885036800056696, 1.0], discriminator loss: 0.36920255422592163, adversarial loss: 2.370940685272217\n",
            "-----[INFO] starting epoch 9 of 20...\n"
          ]
        },
        {
          "output_type": "stream",
          "name": "stderr",
          "text": [
            "WARNING:tensorflow:Compiled the loaded model, but the compiled metrics have yet to be built. `model.compile_metrics` will be empty until you train or evaluate the model.\n",
            "WARNING:tensorflow:No training configuration found in the save file, so the model was *not* compiled. Compile it manually.\n"
          ]
        },
        {
          "output_type": "stream",
          "name": "stdout",
          "text": [
            "Classification loss: [0.002482770709320903, 1.0], discriminator loss: 0.36744141578674316, adversarial loss: 2.615706443786621\n",
            "-----[INFO] starting epoch 10 of 20...\n",
            " * Accuracy at epoch 10: is 0.4002222222222222\n",
            " * Update learning rate of discriminator model to:  tf.Tensor(2e-05, shape=(), dtype=float32)\n",
            " * Update learning rate of the whole model to:  tf.Tensor(2e-05, shape=(), dtype=float32)\n",
            "Classification loss: [0.0026985076256096363, 1.0], discriminator loss: 0.35662364959716797, adversarial loss: 2.2550392150878906\n",
            "-----[INFO] starting epoch 11 of 20...\n"
          ]
        },
        {
          "output_type": "stream",
          "name": "stderr",
          "text": [
            "WARNING:tensorflow:Compiled the loaded model, but the compiled metrics have yet to be built. `model.compile_metrics` will be empty until you train or evaluate the model.\n",
            "WARNING:tensorflow:No training configuration found in the save file, so the model was *not* compiled. Compile it manually.\n"
          ]
        },
        {
          "output_type": "stream",
          "name": "stdout",
          "text": [
            "Classification loss: [0.0021507302299141884, 1.0], discriminator loss: 0.3458896577358246, adversarial loss: 2.2862608432769775\n",
            "-----[INFO] starting epoch 12 of 20...\n",
            " * Accuracy at epoch 12: is 0.41075555555555554\n",
            "Classification loss: [0.0017684760969132185, 1.0], discriminator loss: 0.3416332006454468, adversarial loss: 2.3390700817108154\n",
            "-----[INFO] starting epoch 13 of 20...\n"
          ]
        },
        {
          "output_type": "stream",
          "name": "stderr",
          "text": [
            "WARNING:tensorflow:Compiled the loaded model, but the compiled metrics have yet to be built. `model.compile_metrics` will be empty until you train or evaluate the model.\n",
            "WARNING:tensorflow:No training configuration found in the save file, so the model was *not* compiled. Compile it manually.\n"
          ]
        },
        {
          "output_type": "stream",
          "name": "stdout",
          "text": [
            "Classification loss: [0.00077054463326931, 1.0], discriminator loss: 0.3414863348007202, adversarial loss: 2.403653621673584\n",
            "-----[INFO] starting epoch 14 of 20...\n",
            " * Accuracy at epoch 14: is 0.4166666666666667\n",
            "Classification loss: [0.0007943145465105772, 1.0], discriminator loss: 0.33924585580825806, adversarial loss: 2.4550833702087402\n",
            "-----[INFO] starting epoch 15 of 20...\n"
          ]
        },
        {
          "output_type": "stream",
          "name": "stderr",
          "text": [
            "WARNING:tensorflow:Compiled the loaded model, but the compiled metrics have yet to be built. `model.compile_metrics` will be empty until you train or evaluate the model.\n",
            "WARNING:tensorflow:No training configuration found in the save file, so the model was *not* compiled. Compile it manually.\n"
          ]
        },
        {
          "output_type": "stream",
          "name": "stdout",
          "text": [
            "Classification loss: [0.0009978319285437465, 1.0], discriminator loss: 0.33601075410842896, adversarial loss: 2.283836841583252\n",
            "-----[INFO] starting epoch 16 of 20...\n",
            " * Accuracy at epoch 16: is 0.4202666666666667\n",
            "Classification loss: [0.0007056323811411858, 1.0], discriminator loss: 0.33496326208114624, adversarial loss: 2.2531862258911133\n",
            "-----[INFO] starting epoch 17 of 20...\n"
          ]
        },
        {
          "output_type": "stream",
          "name": "stderr",
          "text": [
            "WARNING:tensorflow:Compiled the loaded model, but the compiled metrics have yet to be built. `model.compile_metrics` will be empty until you train or evaluate the model.\n",
            "WARNING:tensorflow:No training configuration found in the save file, so the model was *not* compiled. Compile it manually.\n"
          ]
        },
        {
          "output_type": "stream",
          "name": "stdout",
          "text": [
            "Classification loss: [0.000953222974203527, 1.0], discriminator loss: 0.3360322117805481, adversarial loss: 2.298093557357788\n",
            "-----[INFO] starting epoch 18 of 20...\n",
            " * Accuracy at epoch 18: is 0.42004444444444444\n",
            "Classification loss: [0.0005283233476802707, 1.0], discriminator loss: 0.3338906168937683, adversarial loss: 2.3598904609680176\n",
            "-----[INFO] starting epoch 19 of 20...\n"
          ]
        },
        {
          "output_type": "stream",
          "name": "stderr",
          "text": [
            "WARNING:tensorflow:Compiled the loaded model, but the compiled metrics have yet to be built. `model.compile_metrics` will be empty until you train or evaluate the model.\n"
          ]
        },
        {
          "output_type": "stream",
          "name": "stdout",
          "text": [
            "Classification loss: [0.0007404007483273745, 1.0], discriminator loss: 0.3356924057006836, adversarial loss: 2.281806707382202\n"
          ]
        }
      ],
      "source": [
        "# Training adversarial network\n",
        "\n",
        "adda.define_discriminator(adda.source_encoder.output_shape[1:])\n",
        "adda.train_target(epochs=ADVERSARIAL_EPOCHS, test_images=target_x, test_labels=target_y)"
      ]
    },
    {
      "cell_type": "markdown",
      "metadata": {
        "id": "-d-dHOkX0Rjq"
      },
      "source": [
        "# Predict"
      ]
    },
    {
      "cell_type": "markdown",
      "source": [
        "## Predict on the train and validation dataset"
      ],
      "metadata": {
        "id": "Qe0zQY5cHmSG"
      }
    },
    {
      "cell_type": "code",
      "execution_count": 18,
      "metadata": {
        "colab": {
          "base_uri": "https://localhost:8080/"
        },
        "id": "bLYMThc9p6qJ",
        "outputId": "dc8d5e10-ac79-4e36-9070-362a59978d9e"
      },
      "outputs": [
        {
          "output_type": "stream",
          "name": "stderr",
          "text": [
            "WARNING:tensorflow:No training configuration found in the save file, so the model was *not* compiled. Compile it manually.\n",
            "WARNING:tensorflow:No training configuration found in the save file, so the model was *not* compiled. Compile it manually.\n"
          ]
        },
        {
          "output_type": "stream",
          "name": "stdout",
          "text": [
            "Accuracy is 0.4198222222222222\n"
          ]
        }
      ],
      "source": [
        "# Predict on the train and validation dataset\n",
        "\n",
        "encoder_model = load_model(\"/content/model/target_encoder.h5\")\n",
        "\n",
        "classifier_model = load_model(\"/content/model/classifier.h5\")\n",
        "\n",
        "predict_labels = Predict_Encoder_Classifier(encoder_model, classifier_model, target_x, batchSize=BATCH_SIZE, preprocessors = [normPro])\n",
        "\n",
        "# Calculate accuracy\n",
        "accuracy = np.sum(predict_labels.argmax(-1) == target_y.argmax(-1)) / len(target_y)\n",
        "\n",
        "print(\"Accuracy is {}\".format(accuracy))"
      ]
    },
    {
      "cell_type": "markdown",
      "source": [
        "## Predit on the testing dataset"
      ],
      "metadata": {
        "id": "HicdPzO9TYgG"
      }
    },
    {
      "cell_type": "code",
      "execution_count": 19,
      "metadata": {
        "colab": {
          "base_uri": "https://localhost:8080/"
        },
        "id": "tJlPEiTG8jrr",
        "outputId": "a20e0dc3-34a9-48a3-cdd1-7c7dc5602cdf"
      },
      "outputs": [
        {
          "output_type": "stream",
          "name": "stdout",
          "text": [
            "---------- INFOR OF DATASET ----------\n",
            "Name: caltech\n",
            "---- X train shape: (20000, 64, 64, 3)\n",
            "---- y train shape: (20000, 5)\n",
            "---- X validation shape: (2500, 64, 64, 3)\n",
            "---- y validation shape: (2500, 5)\n",
            "---- X test shape: (2500, 64, 64, 3)\n",
            "---- y test shape: (2500, 5)\n"
          ]
        },
        {
          "output_type": "stream",
          "name": "stderr",
          "text": [
            "WARNING:tensorflow:No training configuration found in the save file, so the model was *not* compiled. Compile it manually.\n",
            "WARNING:tensorflow:No training configuration found in the save file, so the model was *not* compiled. Compile it manually.\n"
          ]
        },
        {
          "output_type": "stream",
          "name": "stdout",
          "text": [
            "Accuracy is 0.41\n"
          ]
        }
      ],
      "source": [
        "# Load target dataset\n",
        "((_, _), (_, _), (X_testing_target, y_testing_target)) = get_dataset(tgt_dataset)\n",
        "\n",
        "# Predict\n",
        "encoder_model = load_model(\"/content/model/target_encoder.h5\")\n",
        "classifier_model = load_model(\"/content/model/classifier.h5\")\n",
        "\n",
        "predict_labels = Predict_Encoder_Classifier(encoder_model, classifier_model, X_testing_target, batchSize=BATCH_SIZE, preprocessors = [normPro])\n",
        "\n",
        "# Calculate accuracy\n",
        "accuracy = np.sum(predict_labels.argmax(-1) == y_testing_target.argmax(-1)) / len(y_testing_target)\n",
        "print(\"Accuracy is {}\".format(accuracy))"
      ]
    },
    {
      "cell_type": "code",
      "source": [],
      "metadata": {
        "id": "sPflYB1kUKPf"
      },
      "execution_count": 19,
      "outputs": []
    }
  ],
  "metadata": {
    "accelerator": "GPU",
    "colab": {
      "collapsed_sections": [],
      "machine_shape": "hm",
      "provenance": []
    },
    "gpuClass": "standard",
    "kernelspec": {
      "display_name": "Python 3",
      "name": "python3"
    }
  },
  "nbformat": 4,
  "nbformat_minor": 0
}